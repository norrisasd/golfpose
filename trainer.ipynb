{
 "cells": [
  {
   "cell_type": "code",
   "execution_count": 1,
   "metadata": {},
   "outputs": [],
   "source": [
    "import cv2\n",
    "import numpy as np\n",
    "import os\n",
    "from matplotlib import pyplot as plt\n",
    "import time\n",
    "import mediapipe as mp"
   ]
  },
  {
   "cell_type": "code",
   "execution_count": 2,
   "metadata": {},
   "outputs": [],
   "source": [
    "DATA_PATH = os.path.join('./Datasets') \n",
    "\n",
    "# Actions that we try to detect\n",
    "actions = np.array(['Normal'])\n",
    "\n",
    "# Thirty videos worth of data\n",
    "no_sequences = 10\n",
    "\n",
    "# Videos are going to be 30 frames in length\n",
    "sequence_length = 60\n",
    "\n",
    "# Folder start\n"
   ]
  },
  {
   "cell_type": "code",
   "execution_count": 3,
   "metadata": {},
   "outputs": [],
   "source": [
    "from sklearn.model_selection import train_test_split\n",
    "from keras.utils import to_categorical\n",
    "from keras.models import Sequential\n",
    "from keras.layers import LSTM, Dense,Dropout,GRU\n",
    "from keras.callbacks import TensorBoard\n",
    "from keras.optimizers import Adam"
   ]
  },
  {
   "cell_type": "code",
   "execution_count": 4,
   "metadata": {},
   "outputs": [],
   "source": [
    "label_map = {label:num for num, label in enumerate(actions)}"
   ]
  },
  {
   "cell_type": "code",
   "execution_count": 5,
   "metadata": {},
   "outputs": [],
   "source": [
    "DATA_PATH=\"./Datasets/\"\n",
    "sequences, labels = [], []\n",
    "for action in actions:\n",
    "    for sequence in np.array(os.listdir(os.path.join(DATA_PATH, action))).astype(int):\n",
    "        window = []\n",
    "        for frame_num in range(sequence_length):\n",
    "            res = np.load(os.path.join(DATA_PATH, action, str(sequence), \"{}.npy\".format(frame_num)))\n",
    "            window.append(res)\n",
    "        sequences.append(window)\n",
    "        labels.append(label_map[action])"
   ]
  },
  {
   "cell_type": "code",
   "execution_count": 6,
   "metadata": {},
   "outputs": [
    {
     "name": "stdout",
     "output_type": "stream",
     "text": [
      "(10, 60, 4)\n"
     ]
    }
   ],
   "source": [
    "X = np.array(sequences)\n",
    "print(X.shape)\n",
    "y = to_categorical(labels).astype(int)"
   ]
  },
  {
   "cell_type": "code",
   "execution_count": 7,
   "metadata": {},
   "outputs": [],
   "source": [
    "X_train, X_test, y_train, y_test = train_test_split(X, y, test_size=0.2)"
   ]
  },
  {
   "cell_type": "code",
   "execution_count": 8,
   "metadata": {},
   "outputs": [],
   "source": [
    "log_dir = os.path.join('Logs')\n",
    "tb_callback = TensorBoard(log_dir=log_dir)\n",
    "model = Sequential()\n",
    "# model.add(LSTM(units=8, input_shape=(60, 4)))\n",
    "model.add(LSTM(units=8, input_shape=(60, 4), kernel_regularizer='l2', recurrent_regularizer='l2', bias_regularizer='l2', return_sequences=True))\n",
    "model.add(Dropout(0.5))\n",
    "model.add(Dense(actions.shape[0], activation='sigmoid'))\n",
    "model.compile(optimizer=\"Adam\", loss='binary_crossentropy', metrics=['accuracy'])"
   ]
  },
  {
   "cell_type": "code",
   "execution_count": 9,
   "metadata": {},
   "outputs": [
    {
     "name": "stdout",
     "output_type": "stream",
     "text": [
      "Epoch 1/40\n",
      "1/1 [==============================] - 3s 3s/step - loss: 0.9076 - accuracy: 0.5729 - val_loss: 0.8752 - val_accuracy: 0.7917\n",
      "Epoch 2/40\n",
      "1/1 [==============================] - 0s 64ms/step - loss: 0.9097 - accuracy: 0.5917 - val_loss: 0.8684 - val_accuracy: 0.8083\n",
      "Epoch 3/40\n",
      "1/1 [==============================] - 0s 77ms/step - loss: 0.9109 - accuracy: 0.5542 - val_loss: 0.8615 - val_accuracy: 0.8333\n",
      "Epoch 4/40\n",
      "1/1 [==============================] - 0s 74ms/step - loss: 0.8956 - accuracy: 0.6208 - val_loss: 0.8547 - val_accuracy: 0.8500\n",
      "Epoch 5/40\n",
      "1/1 [==============================] - 0s 63ms/step - loss: 0.8848 - accuracy: 0.6396 - val_loss: 0.8479 - val_accuracy: 0.8750\n",
      "Epoch 6/40\n",
      "1/1 [==============================] - 0s 53ms/step - loss: 0.8761 - accuracy: 0.6542 - val_loss: 0.8411 - val_accuracy: 0.9250\n",
      "Epoch 7/40\n",
      "1/1 [==============================] - 0s 56ms/step - loss: 0.8756 - accuracy: 0.6833 - val_loss: 0.8342 - val_accuracy: 0.9250\n",
      "Epoch 8/40\n",
      "1/1 [==============================] - 0s 49ms/step - loss: 0.8724 - accuracy: 0.6792 - val_loss: 0.8274 - val_accuracy: 0.9250\n",
      "Epoch 9/40\n",
      "1/1 [==============================] - 0s 61ms/step - loss: 0.8491 - accuracy: 0.7396 - val_loss: 0.8206 - val_accuracy: 0.9333\n",
      "Epoch 10/40\n",
      "1/1 [==============================] - 0s 56ms/step - loss: 0.8382 - accuracy: 0.7750 - val_loss: 0.8138 - val_accuracy: 0.9500\n",
      "Epoch 11/40\n",
      "1/1 [==============================] - 0s 49ms/step - loss: 0.8391 - accuracy: 0.7354 - val_loss: 0.8070 - val_accuracy: 0.9500\n",
      "Epoch 12/40\n",
      "1/1 [==============================] - 0s 65ms/step - loss: 0.8281 - accuracy: 0.7958 - val_loss: 0.8002 - val_accuracy: 0.9667\n",
      "Epoch 13/40\n",
      "1/1 [==============================] - 0s 63ms/step - loss: 0.8191 - accuracy: 0.8188 - val_loss: 0.7934 - val_accuracy: 0.9750\n",
      "Epoch 14/40\n",
      "1/1 [==============================] - 0s 62ms/step - loss: 0.8127 - accuracy: 0.8062 - val_loss: 0.7866 - val_accuracy: 0.9917\n",
      "Epoch 15/40\n",
      "1/1 [==============================] - 0s 61ms/step - loss: 0.8103 - accuracy: 0.8104 - val_loss: 0.7798 - val_accuracy: 1.0000\n",
      "Epoch 16/40\n",
      "1/1 [==============================] - 0s 54ms/step - loss: 0.8003 - accuracy: 0.8271 - val_loss: 0.7730 - val_accuracy: 1.0000\n",
      "Epoch 17/40\n",
      "1/1 [==============================] - 0s 59ms/step - loss: 0.7968 - accuracy: 0.8438 - val_loss: 0.7662 - val_accuracy: 1.0000\n",
      "Epoch 18/40\n",
      "1/1 [==============================] - 0s 67ms/step - loss: 0.7890 - accuracy: 0.8562 - val_loss: 0.7593 - val_accuracy: 1.0000\n",
      "Epoch 19/40\n",
      "1/1 [==============================] - 0s 68ms/step - loss: 0.7841 - accuracy: 0.8792 - val_loss: 0.7525 - val_accuracy: 1.0000\n",
      "Epoch 20/40\n",
      "1/1 [==============================] - 0s 57ms/step - loss: 0.7767 - accuracy: 0.8708 - val_loss: 0.7456 - val_accuracy: 1.0000\n",
      "Epoch 21/40\n",
      "1/1 [==============================] - 0s 57ms/step - loss: 0.7757 - accuracy: 0.8896 - val_loss: 0.7388 - val_accuracy: 1.0000\n",
      "Epoch 22/40\n",
      "1/1 [==============================] - 0s 58ms/step - loss: 0.7717 - accuracy: 0.8833 - val_loss: 0.7319 - val_accuracy: 1.0000\n",
      "Epoch 23/40\n",
      "1/1 [==============================] - 0s 57ms/step - loss: 0.7617 - accuracy: 0.8750 - val_loss: 0.7251 - val_accuracy: 1.0000\n",
      "Epoch 24/40\n",
      "1/1 [==============================] - 0s 55ms/step - loss: 0.7531 - accuracy: 0.9146 - val_loss: 0.7182 - val_accuracy: 1.0000\n",
      "Epoch 25/40\n",
      "1/1 [==============================] - 0s 53ms/step - loss: 0.7428 - accuracy: 0.9125 - val_loss: 0.7112 - val_accuracy: 1.0000\n",
      "Epoch 26/40\n",
      "1/1 [==============================] - 0s 61ms/step - loss: 0.7337 - accuracy: 0.9250 - val_loss: 0.7043 - val_accuracy: 1.0000\n",
      "Epoch 27/40\n",
      "1/1 [==============================] - 0s 56ms/step - loss: 0.7321 - accuracy: 0.9271 - val_loss: 0.6973 - val_accuracy: 1.0000\n",
      "Epoch 28/40\n",
      "1/1 [==============================] - 0s 58ms/step - loss: 0.7216 - accuracy: 0.9479 - val_loss: 0.6904 - val_accuracy: 1.0000\n",
      "Epoch 29/40\n",
      "1/1 [==============================] - 0s 55ms/step - loss: 0.7168 - accuracy: 0.9271 - val_loss: 0.6834 - val_accuracy: 1.0000\n",
      "Epoch 30/40\n",
      "1/1 [==============================] - 0s 56ms/step - loss: 0.7051 - accuracy: 0.9479 - val_loss: 0.6764 - val_accuracy: 1.0000\n",
      "Epoch 31/40\n",
      "1/1 [==============================] - 0s 62ms/step - loss: 0.7034 - accuracy: 0.9500 - val_loss: 0.6694 - val_accuracy: 1.0000\n",
      "Epoch 32/40\n",
      "1/1 [==============================] - 0s 91ms/step - loss: 0.6963 - accuracy: 0.9729 - val_loss: 0.6624 - val_accuracy: 1.0000\n",
      "Epoch 33/40\n",
      "1/1 [==============================] - 0s 56ms/step - loss: 0.6896 - accuracy: 0.9479 - val_loss: 0.6554 - val_accuracy: 1.0000\n",
      "Epoch 34/40\n",
      "1/1 [==============================] - 0s 52ms/step - loss: 0.6731 - accuracy: 0.9667 - val_loss: 0.6484 - val_accuracy: 1.0000\n",
      "Epoch 35/40\n",
      "1/1 [==============================] - 0s 63ms/step - loss: 0.6588 - accuracy: 0.9771 - val_loss: 0.6414 - val_accuracy: 1.0000\n",
      "Epoch 36/40\n",
      "1/1 [==============================] - 0s 54ms/step - loss: 0.6618 - accuracy: 0.9688 - val_loss: 0.6344 - val_accuracy: 1.0000\n",
      "Epoch 37/40\n",
      "1/1 [==============================] - 0s 59ms/step - loss: 0.6675 - accuracy: 0.9750 - val_loss: 0.6273 - val_accuracy: 1.0000\n",
      "Epoch 38/40\n",
      "1/1 [==============================] - 0s 52ms/step - loss: 0.6549 - accuracy: 0.9688 - val_loss: 0.6203 - val_accuracy: 1.0000\n",
      "Epoch 39/40\n",
      "1/1 [==============================] - 0s 56ms/step - loss: 0.6417 - accuracy: 0.9854 - val_loss: 0.6134 - val_accuracy: 1.0000\n",
      "Epoch 40/40\n",
      "1/1 [==============================] - 0s 58ms/step - loss: 0.6364 - accuracy: 0.9792 - val_loss: 0.6064 - val_accuracy: 1.0000\n"
     ]
    },
    {
     "data": {
      "text/plain": [
       "<keras.callbacks.History at 0x22cf4475c30>"
      ]
     },
     "execution_count": 9,
     "metadata": {},
     "output_type": "execute_result"
    }
   ],
   "source": [
    "model.fit(X_train, y_train, epochs=40,batch_size=32, callbacks=[tb_callback],validation_data=(X_test,y_test))\n",
    "# model.fit(X_train, y_train, epochs=10, batch_size=32)"
   ]
  }
 ],
 "metadata": {
  "kernelspec": {
   "display_name": "Python 3",
   "language": "python",
   "name": "python3"
  },
  "language_info": {
   "codemirror_mode": {
    "name": "ipython",
    "version": 3
   },
   "file_extension": ".py",
   "mimetype": "text/x-python",
   "name": "python",
   "nbconvert_exporter": "python",
   "pygments_lexer": "ipython3",
   "version": "3.10.5"
  },
  "orig_nbformat": 4,
  "vscode": {
   "interpreter": {
    "hash": "295c90c92b3c45cfe49d38555c74c2dd73999ca0ed790054149f6ba11de76d9b"
   }
  }
 },
 "nbformat": 4,
 "nbformat_minor": 2
}
