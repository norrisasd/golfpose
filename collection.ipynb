{
 "cells": [
  {
   "cell_type": "code",
   "execution_count": 1,
   "metadata": {},
   "outputs": [
    {
     "ename": "ImportError",
     "evalue": "cannot import name 'calculator_registry' from 'mediapipe.framework' (c:\\Users\\norrisasd\\AppData\\Local\\Programs\\Python\\Python310\\lib\\site-packages\\mediapipe\\framework\\__init__.py)",
     "output_type": "error",
     "traceback": [
      "\u001b[1;31m---------------------------------------------------------------------------\u001b[0m",
      "\u001b[1;31mImportError\u001b[0m                               Traceback (most recent call last)",
      "Cell \u001b[1;32mIn[1], line 3\u001b[0m\n\u001b[0;32m      1\u001b[0m \u001b[39m# Import the necessary modules\u001b[39;00m\n\u001b[0;32m      2\u001b[0m \u001b[39mfrom\u001b[39;00m \u001b[39mmediapipe\u001b[39;00m\u001b[39m.\u001b[39;00m\u001b[39mframework\u001b[39;00m \u001b[39mimport\u001b[39;00m calculator_pb2\n\u001b[1;32m----> 3\u001b[0m \u001b[39mfrom\u001b[39;00m \u001b[39mmediapipe\u001b[39;00m\u001b[39m.\u001b[39;00m\u001b[39mframework\u001b[39;00m \u001b[39mimport\u001b[39;00m calculator_registry\n\u001b[0;32m      4\u001b[0m \u001b[39mfrom\u001b[39;00m \u001b[39mmediapipe\u001b[39;00m\u001b[39m.\u001b[39;00m\u001b[39mframework\u001b[39;00m \u001b[39mimport\u001b[39;00m formatter\n\u001b[0;32m      5\u001b[0m \u001b[39mfrom\u001b[39;00m \u001b[39mmediapipe\u001b[39;00m\u001b[39m.\u001b[39;00m\u001b[39mframework\u001b[39;00m \u001b[39mimport\u001b[39;00m input_stream\n",
      "\u001b[1;31mImportError\u001b[0m: cannot import name 'calculator_registry' from 'mediapipe.framework' (c:\\Users\\norrisasd\\AppData\\Local\\Programs\\Python\\Python310\\lib\\site-packages\\mediapipe\\framework\\__init__.py)"
     ]
    }
   ],
   "source": [
    "# Import the necessary modules\n",
    "from mediapipe.framework import calculator_pb2\n",
    "from mediapipe.framework import calculator_registry\n",
    "from mediapipe.framework import formatter\n",
    "from mediapipe.framework import input_stream\n",
    "from mediapipe.framework import output_stream\n",
    "import mediapipe as mp\n",
    "\n",
    "# Define the input and output streams for the pipeline\n",
    "input_streams = input_stream.InputStreams()\n",
    "output_streams = output_stream.OutputStreams()\n",
    "\n",
    "# Add the input stream for the images\n",
    "input_streams.Add('input_image', 'VIDEO_FRAMES')\n",
    "\n",
    "# Add the output stream for the keypoints\n",
    "output_streams.Add('output_keypoints', 'NORMALIZED_LANDMARKS')\n",
    "\n",
    "# Create the calculator options object\n",
    "options = calculator_pb2.CalculatorOptions()\n",
    "mp_pose = mp.solutions.pose\n",
    "pose = mp_pose.Pose()\n",
    "\n",
    "# Configure the calculator options\n",
    "pose_landmark_calculator_options = options.extensions[\n",
    "    mp_pose.PoseLandmarkCalculatorOptions]\n",
    "pose_landmark_calculator_options.detection_confidence_threshold = 0.7\n",
    "pose_landmark_calculator_options.detection_model_path = (\n",
    "    '/path/to/pose_landmark_detection.tflite')\n",
    "pose_landmark_calculator_options.extract_landmarks.extend([9])  # wrist keypoint index\n",
    "\n",
    "# Create the calculator context object\n",
    "calculator_context = calculator_registry.CalculatorContext(\n",
    "    calculator_registry.CalculatorRegistry.Create('PoseLandmarkCalculator', options))\n",
    "\n",
    "# Process the dataset\n",
    "for image in dataset:\n",
    "  # Set the input image for the pipeline\n",
    "  input_frame = formatter.pack_image_frame(\n",
    "      'input_image', image, timestamp=timestamp)\n",
    "  input_streams.AddFrame(input_frame)\n",
    "\n",
    "  # Run the pipeline\n",
    "  calculator_context.Run(input_streams.ToProto(), output_streams.ToProto())\n",
    "\n",
    "  # Get the output keypoints\n",
    "  output_keypoints = output_streams.Get('output_keypoints')\n",
    "\n"
   ]
  },
  {
   "cell_type": "code",
   "execution_count": 7,
   "metadata": {},
   "outputs": [],
   "source": [
    "for action in actions: \n",
    "    for sequence in range(1,no_sequences+1):\n",
    "        try: \n",
    "            os.makedirs(os.path.join(DATA_PATH, action, str(sequence)))\n",
    "        except:\n",
    "            pass"
   ]
  }
 ],
 "metadata": {
  "kernelspec": {
   "display_name": "Python 3",
   "language": "python",
   "name": "python3"
  },
  "language_info": {
   "codemirror_mode": {
    "name": "ipython",
    "version": 3
   },
   "file_extension": ".py",
   "mimetype": "text/x-python",
   "name": "python",
   "nbconvert_exporter": "python",
   "pygments_lexer": "ipython3",
   "version": "3.10.5"
  },
  "orig_nbformat": 4,
  "vscode": {
   "interpreter": {
    "hash": "295c90c92b3c45cfe49d38555c74c2dd73999ca0ed790054149f6ba11de76d9b"
   }
  }
 },
 "nbformat": 4,
 "nbformat_minor": 2
}
