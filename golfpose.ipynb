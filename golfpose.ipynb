{
 "cells": [
  {
   "cell_type": "code",
   "execution_count": 7,
   "metadata": {},
   "outputs": [],
   "source": [
    "import cv2\n",
    "import numpy as np\n",
    "import os\n",
    "from matplotlib import pyplot as plt\n",
    "import time\n",
    "import mediapipe as mp"
   ]
  },
  {
   "cell_type": "code",
   "execution_count": 8,
   "metadata": {},
   "outputs": [],
   "source": [
    "mp_holistic = mp.solutions.holistic # Holistic model\n",
    "mp_drawing = mp.solutions.drawing_utils # Drawing utilities\n",
    "mp_pose = mp.solutions.pose\n",
    "mp_drawing_styles = mp.solutions.drawing_styles\n",
    "pose = mp_pose.Pose()\n"
   ]
  },
  {
   "cell_type": "code",
   "execution_count": 9,
   "metadata": {},
   "outputs": [],
   "source": [
    "def mediapipe_detection(image, model):\n",
    "    image = cv2.cvtColor(image, cv2.COLOR_BGR2RGB) # COLOR CONVERSION BGR 2 RGB\n",
    "    image.flags.writeable = False                  # Image is no longer writeable\n",
    "    results = model.process(image)                 # Make prediction\n",
    "    image.flags.writeable = True                   # Image is now writeable \n",
    "    image = cv2.cvtColor(image, cv2.COLOR_RGB2BGR) # COLOR COVERSION RGB 2 BGR\n",
    "    return image, results"
   ]
  },
  {
   "cell_type": "code",
   "execution_count": 10,
   "metadata": {},
   "outputs": [],
   "source": [
    "def extract_keypoints(results):\n",
    "    lw = np.array([[res.x, res.y, res.z, res.visibility] for res in [results.pose_landmarks.landmark[mp_pose.PoseLandmark.LEFT_WRIST.value]]]).flatten() if results.pose_landmarks else np.zeros(33*4)\n",
    "    rw = np.array([[res.x, res.y, res.z, res.visibility] for res in [results.pose_landmarks.landmark[mp_pose.PoseLandmark.RIGHT_WRIST.value]]]).flatten() if results.pose_landmarks else np.zeros(33*4)\n",
    "    pose = pose = np.array([[res.x, res.y, res.z, res.visibility] for res in results.pose_landmarks.landmark]).flatten() if results.pose_landmarks else np.zeros(132)\n",
    "    result = np.zeros(132)\n",
    "    result[15]=pose[15]\n",
    "    result[16]=pose[16]\n",
    "    result = result.flatten()\n",
    "\n",
    "    return np.concatenate([result])\n",
    "    \n",
    "def extract_keypoints1(results):\n",
    "    lw = np.array([[res.x, res.y, res.z, res.visibility] for res in [results.pose_landmarks.landmark[mp_pose.PoseLandmark.LEFT_WRIST.value]]]).flatten() if results.pose_landmarks else np.zeros(4)\n",
    "    return np.concatenate([lw])\n",
    "\n",
    "def extract_keypoints2(landmarks):\n",
    "  wrist_keypoints = []\n",
    "  # Loop through the landmarks in the pose landmark object\n",
    "  for landmark in landmarks:\n",
    "    # Check if the landmark is a wrist keypoint\n",
    "    if landmark.type == 'WRIST':\n",
    "      # Extract the x, y, z, and visibility values for the wrist keypoint\n",
    "      x, y, z, visibility = landmark.x, landmark.y, landmark.z, landmark.visibility\n",
    "      wrist_keypoints.append([x, y, z, visibility])\n",
    "  return np.array(wrist_keypoints)"
   ]
  },
  {
   "cell_type": "code",
   "execution_count": 11,
   "metadata": {},
   "outputs": [],
   "source": [
    "DATA_PATH = os.path.join('./Datasets') \n",
    "\n",
    "# Actions that we try to detect\n",
    "actions = np.array(['Normal'])\n",
    "\n",
    "# Thirty videos worth of data\n",
    "no_sequences = 10\n",
    "\n",
    "# Videos are going to be 30 frames in length\n",
    "sequence_length = 60\n",
    "\n",
    "# Folder start\n"
   ]
  },
  {
   "cell_type": "code",
   "execution_count": 13,
   "metadata": {},
   "outputs": [
    {
     "name": "stdout",
     "output_type": "stream",
     "text": [
      "Starting to collect for folder 0\n"
     ]
    },
    {
     "ename": "AttributeError",
     "evalue": "type",
     "output_type": "error",
     "traceback": [
      "\u001b[1;31m---------------------------------------------------------------------------\u001b[0m",
      "\u001b[1;31mAttributeError\u001b[0m                            Traceback (most recent call last)",
      "Cell \u001b[1;32mIn[13], line 26\u001b[0m\n\u001b[0;32m     24\u001b[0m cv2\u001b[39m.\u001b[39mimshow(\u001b[39m'\u001b[39m\u001b[39mOpenCV Feed\u001b[39m\u001b[39m'\u001b[39m, image)\n\u001b[0;32m     25\u001b[0m \u001b[39mif\u001b[39;00m start:\n\u001b[1;32m---> 26\u001b[0m     keypoints \u001b[39m=\u001b[39m extract_keypoints2(results\u001b[39m.\u001b[39;49mpose_landmarks\u001b[39m.\u001b[39;49mlandmark)\n\u001b[0;32m     27\u001b[0m     npy_path \u001b[39m=\u001b[39m os\u001b[39m.\u001b[39mpath\u001b[39m.\u001b[39mjoin(DATA_PATH, \u001b[39m'\u001b[39m\u001b[39mtry\u001b[39m\u001b[39m'\u001b[39m, \u001b[39mstr\u001b[39m(number), \u001b[39mstr\u001b[39m(count))\n\u001b[0;32m     28\u001b[0m     np\u001b[39m.\u001b[39msave(npy_path, keypoints)\n",
      "Cell \u001b[1;32mIn[10], line 21\u001b[0m, in \u001b[0;36mextract_keypoints2\u001b[1;34m(landmarks)\u001b[0m\n\u001b[0;32m     18\u001b[0m \u001b[39m# Loop through the landmarks in the pose landmark object\u001b[39;00m\n\u001b[0;32m     19\u001b[0m \u001b[39mfor\u001b[39;00m landmark \u001b[39min\u001b[39;00m landmarks:\n\u001b[0;32m     20\u001b[0m   \u001b[39m# Check if the landmark is a wrist keypoint\u001b[39;00m\n\u001b[1;32m---> 21\u001b[0m   \u001b[39mif\u001b[39;00m landmark\u001b[39m.\u001b[39;49mtype \u001b[39m==\u001b[39m \u001b[39m'\u001b[39m\u001b[39mWRIST\u001b[39m\u001b[39m'\u001b[39m:\n\u001b[0;32m     22\u001b[0m     \u001b[39m# Extract the x, y, z, and visibility values for the wrist keypoint\u001b[39;00m\n\u001b[0;32m     23\u001b[0m     x, y, z, visibility \u001b[39m=\u001b[39m landmark\u001b[39m.\u001b[39mx, landmark\u001b[39m.\u001b[39my, landmark\u001b[39m.\u001b[39mz, landmark\u001b[39m.\u001b[39mvisibility\n\u001b[0;32m     24\u001b[0m     wrist_keypoints\u001b[39m.\u001b[39mappend([x, y, z, visibility])\n",
      "\u001b[1;31mAttributeError\u001b[0m: type"
     ]
    }
   ],
   "source": [
    "\n",
    "# Set mediapipe model \n",
    "start_folder = 1\n",
    "number = 0\n",
    "VIDEO_PATH = \"./assets/videos/\"+str(number)+\".mp4\"\n",
    "cap = cv2.VideoCapture(VIDEO_PATH)\n",
    "count = 0\n",
    "start = False\n",
    "with mp_holistic.Holistic(min_detection_confidence=0.5, min_tracking_confidence=0.5) as holistic:\n",
    "    while cap.isOpened():\n",
    "        # Read feed\n",
    "        success, frame = cap.read()\n",
    "        if not success:\n",
    "            break\n",
    "        # Make detections\n",
    "        image, results = mediapipe_detection(frame, holistic)\n",
    "        image = cv2.resize(image,(700,700))\n",
    "        #For landmarks drawing\n",
    "        mp_drawing.draw_landmarks(\n",
    "            image,\n",
    "            results.pose_landmarks,\n",
    "            mp_pose.POSE_CONNECTIONS,\n",
    "            landmark_drawing_spec=mp_drawing_styles.get_default_pose_landmarks_style())\n",
    "        # Show to screen\n",
    "        cv2.imshow('OpenCV Feed', image)\n",
    "        if start:\n",
    "            keypoints = extract_keypoints2(results.pose_landmarks.landmark)\n",
    "            npy_path = os.path.join(DATA_PATH, 'try', str(number), str(count))\n",
    "            np.save(npy_path, keypoints)\n",
    "            count+=1\n",
    "        # Break gracefully\n",
    "        if cv2.waitKey(10) & 0xFF == ord('s'):\n",
    "            start = True\n",
    "            print(\"Starting to collect for folder \"+ str(number))\n",
    "        if cv2.waitKey(20) & 0xFF == ord('q'):\n",
    "            break\n",
    "        \n",
    "cap.release()\n",
    "cv2.destroyAllWindows()"
   ]
  },
  {
   "cell_type": "code",
   "execution_count": 3,
   "metadata": {},
   "outputs": [],
   "source": [
    "from sklearn.model_selection import train_test_split\n",
    "from keras.utils import to_categorical"
   ]
  },
  {
   "cell_type": "code",
   "execution_count": 5,
   "metadata": {},
   "outputs": [],
   "source": [
    "label_map = {label:num for num, label in enumerate(actions)}"
   ]
  },
  {
   "cell_type": "code",
   "execution_count": 6,
   "metadata": {},
   "outputs": [],
   "source": [
    "DATA_PATH=\"./Datasets/\"\n",
    "sequences, labels = [], []\n",
    "for action in actions:\n",
    "    for sequence in np.array(os.listdir(os.path.join(DATA_PATH, action))).astype(int):\n",
    "        window = []\n",
    "        for frame_num in range(sequence_length):\n",
    "            res = np.load(os.path.join(DATA_PATH, action, str(sequence), \"{}.npy\".format(frame_num)))\n",
    "            window.append(res)\n",
    "        sequences.append(window)\n",
    "        labels.append(label_map[action])"
   ]
  },
  {
   "cell_type": "code",
   "execution_count": 7,
   "metadata": {},
   "outputs": [
    {
     "name": "stdout",
     "output_type": "stream",
     "text": [
      "(10, 60, 4)\n"
     ]
    }
   ],
   "source": [
    "X = np.array(sequences)\n",
    "print(X.shape)"
   ]
  },
  {
   "cell_type": "code",
   "execution_count": 8,
   "metadata": {},
   "outputs": [],
   "source": [
    "y = to_categorical(labels).astype(int)"
   ]
  },
  {
   "cell_type": "code",
   "execution_count": 9,
   "metadata": {},
   "outputs": [],
   "source": [
    "X_train, X_test, y_train, y_test = train_test_split(X, y, test_size=0.2)"
   ]
  },
  {
   "cell_type": "code",
   "execution_count": 16,
   "metadata": {},
   "outputs": [],
   "source": [
    "from keras.models import Sequential\n",
    "from keras.layers import LSTM, Dense,Dropout,GRU\n",
    "from keras.callbacks import TensorBoard\n",
    "from keras.optimizers import Adam"
   ]
  },
  {
   "cell_type": "code",
   "execution_count": 17,
   "metadata": {},
   "outputs": [],
   "source": [
    "log_dir = os.path.join('Logs')\n",
    "tb_callback = TensorBoard(log_dir=log_dir)"
   ]
  },
  {
   "cell_type": "code",
   "execution_count": 18,
   "metadata": {},
   "outputs": [],
   "source": [
    "model = Sequential()\n",
    "model.add(LSTM(units=8, input_shape=(60, 4), kernel_regularizer='l2', recurrent_regularizer='l2', bias_regularizer='l2', return_sequences=True))\n",
    "model.add(Dropout(0.5))\n",
    "model.add(Dense(actions.shape[0], activation='sigmoid'))"
   ]
  },
  {
   "cell_type": "code",
   "execution_count": 19,
   "metadata": {},
   "outputs": [],
   "source": [
    "model.compile(optimizer=Adam(0.002), loss='binary_crossentropy', metrics=['accuracy'])"
   ]
  },
  {
   "cell_type": "code",
   "execution_count": 20,
   "metadata": {},
   "outputs": [
    {
     "name": "stdout",
     "output_type": "stream",
     "text": [
      "Epoch 1/30\n",
      "1/1 [==============================] - 3s 3s/step - loss: 0.9216 - accuracy: 0.2167 - val_loss: 0.8872 - val_accuracy: 0.0000e+00\n",
      "Epoch 2/30\n",
      "1/1 [==============================] - 0s 55ms/step - loss: 0.8997 - accuracy: 0.3125 - val_loss: 0.8723 - val_accuracy: 0.0000e+00\n",
      "Epoch 3/30\n",
      "1/1 [==============================] - 0s 61ms/step - loss: 0.9007 - accuracy: 0.2896 - val_loss: 0.8575 - val_accuracy: 0.0000e+00\n",
      "Epoch 4/30\n",
      "1/1 [==============================] - 0s 71ms/step - loss: 0.8765 - accuracy: 0.3167 - val_loss: 0.8429 - val_accuracy: 0.0000e+00\n",
      "Epoch 5/30\n",
      "1/1 [==============================] - 0s 58ms/step - loss: 0.8457 - accuracy: 0.3813 - val_loss: 0.8284 - val_accuracy: 0.0000e+00\n",
      "Epoch 6/30\n",
      "1/1 [==============================] - 0s 63ms/step - loss: 0.8347 - accuracy: 0.3771 - val_loss: 0.8141 - val_accuracy: 0.0000e+00\n",
      "Epoch 7/30\n",
      "1/1 [==============================] - 0s 60ms/step - loss: 0.8191 - accuracy: 0.3771 - val_loss: 0.7999 - val_accuracy: 0.0000e+00\n",
      "Epoch 8/30\n",
      "1/1 [==============================] - 0s 68ms/step - loss: 0.8326 - accuracy: 0.3667 - val_loss: 0.7858 - val_accuracy: 0.0000e+00\n",
      "Epoch 9/30\n",
      "1/1 [==============================] - 0s 60ms/step - loss: 0.8060 - accuracy: 0.4000 - val_loss: 0.7719 - val_accuracy: 0.0000e+00\n",
      "Epoch 10/30\n",
      "1/1 [==============================] - 0s 73ms/step - loss: 0.7826 - accuracy: 0.4521 - val_loss: 0.7582 - val_accuracy: 0.1000\n",
      "Epoch 11/30\n",
      "1/1 [==============================] - 0s 116ms/step - loss: 0.7761 - accuracy: 0.4500 - val_loss: 0.7447 - val_accuracy: 0.1417\n",
      "Epoch 12/30\n",
      "1/1 [==============================] - 0s 85ms/step - loss: 0.7503 - accuracy: 0.4750 - val_loss: 0.7314 - val_accuracy: 0.2167\n",
      "Epoch 13/30\n",
      "1/1 [==============================] - 0s 58ms/step - loss: 0.7446 - accuracy: 0.5104 - val_loss: 0.7183 - val_accuracy: 0.3333\n",
      "Epoch 14/30\n",
      "1/1 [==============================] - 0s 66ms/step - loss: 0.7155 - accuracy: 0.5438 - val_loss: 0.7053 - val_accuracy: 0.4083\n",
      "Epoch 15/30\n",
      "1/1 [==============================] - 0s 63ms/step - loss: 0.7199 - accuracy: 0.5042 - val_loss: 0.6924 - val_accuracy: 0.5083\n",
      "Epoch 16/30\n",
      "1/1 [==============================] - 0s 62ms/step - loss: 0.7090 - accuracy: 0.5646 - val_loss: 0.6796 - val_accuracy: 0.6083\n",
      "Epoch 17/30\n",
      "1/1 [==============================] - 0s 63ms/step - loss: 0.6717 - accuracy: 0.6125 - val_loss: 0.6671 - val_accuracy: 0.6833\n",
      "Epoch 18/30\n",
      "1/1 [==============================] - 0s 63ms/step - loss: 0.6910 - accuracy: 0.5958 - val_loss: 0.6547 - val_accuracy: 0.7667\n",
      "Epoch 19/30\n",
      "1/1 [==============================] - 0s 58ms/step - loss: 0.6565 - accuracy: 0.6479 - val_loss: 0.6425 - val_accuracy: 0.8500\n",
      "Epoch 20/30\n",
      "1/1 [==============================] - 0s 63ms/step - loss: 0.6522 - accuracy: 0.6479 - val_loss: 0.6304 - val_accuracy: 0.9250\n",
      "Epoch 21/30\n",
      "1/1 [==============================] - 0s 61ms/step - loss: 0.6289 - accuracy: 0.7188 - val_loss: 0.6184 - val_accuracy: 0.9667\n",
      "Epoch 22/30\n",
      "1/1 [==============================] - 0s 61ms/step - loss: 0.6255 - accuracy: 0.7271 - val_loss: 0.6065 - val_accuracy: 0.9917\n",
      "Epoch 23/30\n",
      "1/1 [==============================] - 0s 61ms/step - loss: 0.6250 - accuracy: 0.7000 - val_loss: 0.5948 - val_accuracy: 1.0000\n",
      "Epoch 24/30\n",
      "1/1 [==============================] - 0s 61ms/step - loss: 0.6239 - accuracy: 0.7208 - val_loss: 0.5831 - val_accuracy: 1.0000\n",
      "Epoch 25/30\n",
      "1/1 [==============================] - 0s 50ms/step - loss: 0.5796 - accuracy: 0.7958 - val_loss: 0.5715 - val_accuracy: 1.0000\n",
      "Epoch 26/30\n",
      "1/1 [==============================] - 0s 58ms/step - loss: 0.5782 - accuracy: 0.7854 - val_loss: 0.5601 - val_accuracy: 1.0000\n",
      "Epoch 27/30\n",
      "1/1 [==============================] - 0s 54ms/step - loss: 0.5762 - accuracy: 0.8083 - val_loss: 0.5488 - val_accuracy: 1.0000\n",
      "Epoch 28/30\n",
      "1/1 [==============================] - 0s 63ms/step - loss: 0.5578 - accuracy: 0.8292 - val_loss: 0.5375 - val_accuracy: 1.0000\n",
      "Epoch 29/30\n",
      "1/1 [==============================] - 0s 70ms/step - loss: 0.5506 - accuracy: 0.8458 - val_loss: 0.5264 - val_accuracy: 1.0000\n",
      "Epoch 30/30\n",
      "1/1 [==============================] - 0s 59ms/step - loss: 0.5343 - accuracy: 0.8542 - val_loss: 0.5153 - val_accuracy: 1.0000\n"
     ]
    },
    {
     "data": {
      "text/plain": [
       "<keras.callbacks.History at 0x23773d2ab90>"
      ]
     },
     "execution_count": 20,
     "metadata": {},
     "output_type": "execute_result"
    }
   ],
   "source": [
    "model.fit(X_train, y_train, epochs=30,batch_size=32, callbacks=[tb_callback],validation_data=(X_test,y_test))\n",
    "# model.fit(X_train, y_train, epochs=10, batch_size=32)"
   ]
  },
  {
   "cell_type": "code",
   "execution_count": null,
   "metadata": {},
   "outputs": [],
   "source": [
    "res = model.predict(X_test,batch_size=30)"
   ]
  },
  {
   "cell_type": "code",
   "execution_count": null,
   "metadata": {},
   "outputs": [],
   "source": [
    "actions[np.argmax(res[0])]"
   ]
  },
  {
   "cell_type": "code",
   "execution_count": null,
   "metadata": {},
   "outputs": [],
   "source": [
    "actions[np.argmax(y_test[0])]"
   ]
  }
 ],
 "metadata": {
  "kernelspec": {
   "display_name": "Python 3",
   "language": "python",
   "name": "python3"
  },
  "language_info": {
   "codemirror_mode": {
    "name": "ipython",
    "version": 3
   },
   "file_extension": ".py",
   "mimetype": "text/x-python",
   "name": "python",
   "nbconvert_exporter": "python",
   "pygments_lexer": "ipython3",
   "version": "3.10.5"
  },
  "orig_nbformat": 4,
  "vscode": {
   "interpreter": {
    "hash": "295c90c92b3c45cfe49d38555c74c2dd73999ca0ed790054149f6ba11de76d9b"
   }
  }
 },
 "nbformat": 4,
 "nbformat_minor": 2
}
